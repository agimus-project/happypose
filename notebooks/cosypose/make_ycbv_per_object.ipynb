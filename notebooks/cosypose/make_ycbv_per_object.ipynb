{
 "cells": [
  {
   "cell_type": "code",
   "execution_count": 5,
   "metadata": {},
   "outputs": [
    {
     "name": "stdout",
     "output_type": "stream",
     "text": [
      "The autoreload extension is already loaded. To reload it, use:\n",
      "  %reload_ext autoreload\n"
     ]
    },
    {
     "ename": "KeyError",
     "evalue": "'ADD_ntop=1_matching=CLASS'",
     "output_type": "error",
     "traceback": [
      "\u001b[0;31m---------------------------------------------------------------------------\u001b[0m",
      "\u001b[0;31mKeyError\u001b[0m                                  Traceback (most recent call last)",
      "\u001b[0;32m<ipython-input-5-67bd3604e621>\u001b[0m in \u001b[0;36m<module>\u001b[0;34m\u001b[0m\n\u001b[1;32m     34\u001b[0m \u001b[0;34m\u001b[0m\u001b[0m\n\u001b[1;32m     35\u001b[0m \u001b[0mresult_id\u001b[0m \u001b[0;34m=\u001b[0m \u001b[0;34m'ycbv-n_views=1--5154971130'\u001b[0m\u001b[0;34m\u001b[0m\u001b[0;34m\u001b[0m\u001b[0m\n\u001b[0;32m---> 36\u001b[0;31m \u001b[0mdf\u001b[0m \u001b[0;34m=\u001b[0m \u001b[0mmake_summary_df\u001b[0m\u001b[0;34m(\u001b[0m\u001b[0mresult_id\u001b[0m\u001b[0;34m)\u001b[0m\u001b[0;34m\u001b[0m\u001b[0;34m\u001b[0m\u001b[0m\n\u001b[0m\u001b[1;32m     37\u001b[0m \u001b[0;34m\u001b[0m\u001b[0m\n\u001b[1;32m     38\u001b[0m \u001b[0mpd\u001b[0m\u001b[0;34m.\u001b[0m\u001b[0moptions\u001b[0m\u001b[0;34m.\u001b[0m\u001b[0mdisplay\u001b[0m\u001b[0;34m.\u001b[0m\u001b[0mfloat_format\u001b[0m \u001b[0;34m=\u001b[0m \u001b[0;34m'{:,.1f}'\u001b[0m\u001b[0;34m.\u001b[0m\u001b[0mformat\u001b[0m\u001b[0;34m\u001b[0m\u001b[0;34m\u001b[0m\u001b[0m\n",
      "\u001b[0;32m<ipython-input-5-67bd3604e621>\u001b[0m in \u001b[0;36mmake_summary_df\u001b[0;34m(result_id)\u001b[0m\n\u001b[1;32m     23\u001b[0m     \u001b[0mmetrics_k\u001b[0m \u001b[0;34m=\u001b[0m \u001b[0;34m[\u001b[0m\u001b[0;34m'ADD'\u001b[0m\u001b[0;34m,\u001b[0m \u001b[0;34m'ADD-S'\u001b[0m\u001b[0;34m,\u001b[0m \u001b[0;34m'ADD(-S)'\u001b[0m\u001b[0;34m]\u001b[0m\u001b[0;34m\u001b[0m\u001b[0;34m\u001b[0m\u001b[0m\n\u001b[1;32m     24\u001b[0m     \u001b[0;32mfor\u001b[0m \u001b[0mk\u001b[0m \u001b[0;32min\u001b[0m \u001b[0mmetrics_k\u001b[0m\u001b[0;34m:\u001b[0m\u001b[0;34m\u001b[0m\u001b[0;34m\u001b[0m\u001b[0m\n\u001b[0;32m---> 25\u001b[0;31m         \u001b[0mscores\u001b[0m \u001b[0;34m=\u001b[0m \u001b[0mmake_errors_dict\u001b[0m\u001b[0;34m(\u001b[0m\u001b[0mk\u001b[0m\u001b[0;34m,\u001b[0m \u001b[0mresult_id\u001b[0m\u001b[0;34m)\u001b[0m\u001b[0;34m\u001b[0m\u001b[0;34m\u001b[0m\u001b[0m\n\u001b[0m\u001b[1;32m     26\u001b[0m         \u001b[0mmetrics\u001b[0m\u001b[0;34m[\u001b[0m\u001b[0mk\u001b[0m\u001b[0;34m]\u001b[0m \u001b[0;34m=\u001b[0m \u001b[0mscores\u001b[0m\u001b[0;34m\u001b[0m\u001b[0;34m\u001b[0m\u001b[0m\n\u001b[1;32m     27\u001b[0m     \u001b[0mnames\u001b[0m \u001b[0;34m=\u001b[0m \u001b[0mlist\u001b[0m\u001b[0;34m(\u001b[0m\u001b[0mmetrics\u001b[0m\u001b[0;34m[\u001b[0m\u001b[0mmetrics_k\u001b[0m\u001b[0;34m[\u001b[0m\u001b[0;36m0\u001b[0m\u001b[0;34m]\u001b[0m\u001b[0;34m]\u001b[0m\u001b[0;34m.\u001b[0m\u001b[0mkeys\u001b[0m\u001b[0;34m(\u001b[0m\u001b[0;34m)\u001b[0m\u001b[0;34m)\u001b[0m\u001b[0;34m\u001b[0m\u001b[0;34m\u001b[0m\u001b[0m\n",
      "\u001b[0;32m<ipython-input-5-67bd3604e621>\u001b[0m in \u001b[0;36mmake_errors_dict\u001b[0;34m(key, result_id)\u001b[0m\n\u001b[1;32m     12\u001b[0m     \u001b[0mx\u001b[0m \u001b[0;34m=\u001b[0m \u001b[0mtorch\u001b[0m\u001b[0;34m.\u001b[0m\u001b[0mload\u001b[0m\u001b[0;34m(\u001b[0m\u001b[0mLOCAL_DATA_DIR\u001b[0m \u001b[0;34m/\u001b[0m \u001b[0;34m'results'\u001b[0m \u001b[0;34m/\u001b[0m \u001b[0mresult_id\u001b[0m \u001b[0;34m/\u001b[0m \u001b[0;34m'results.pth.tar'\u001b[0m\u001b[0;34m)\u001b[0m\u001b[0;34m\u001b[0m\u001b[0;34m\u001b[0m\u001b[0m\n\u001b[1;32m     13\u001b[0m     \u001b[0meval_df\u001b[0m \u001b[0;34m=\u001b[0m \u001b[0mx\u001b[0m\u001b[0;34m[\u001b[0m\u001b[0;34m'dfs'\u001b[0m\u001b[0;34m]\u001b[0m\u001b[0;34m[\u001b[0m\u001b[0;34m'posecnn_init/refiner/iteration=2'\u001b[0m\u001b[0;34m]\u001b[0m\u001b[0;34m\u001b[0m\u001b[0;34m\u001b[0m\u001b[0m\n\u001b[0;32m---> 14\u001b[0;31m     \u001b[0mscores\u001b[0m \u001b[0;34m=\u001b[0m \u001b[0meval_df\u001b[0m\u001b[0;34m[\u001b[0m\u001b[0;34mf'{key}_ntop=1_matching=CLASS'\u001b[0m\u001b[0;34m]\u001b[0m\u001b[0;34m[\u001b[0m\u001b[0;34m'gt'\u001b[0m\u001b[0;34m]\u001b[0m\u001b[0;34m[\u001b[0m\u001b[0;34m'AUC/objects'\u001b[0m\u001b[0;34m]\u001b[0m\u001b[0;34m\u001b[0m\u001b[0;34m\u001b[0m\u001b[0m\n\u001b[0m\u001b[1;32m     15\u001b[0m     \u001b[0mobject_names\u001b[0m \u001b[0;34m=\u001b[0m \u001b[0mscores\u001b[0m\u001b[0;34m.\u001b[0m\u001b[0mobjects\u001b[0m\u001b[0;34m.\u001b[0m\u001b[0mvalues\u001b[0m\u001b[0;34m\u001b[0m\u001b[0;34m\u001b[0m\u001b[0m\n\u001b[1;32m     16\u001b[0m     \u001b[0mthis_friendly_names\u001b[0m \u001b[0;34m=\u001b[0m \u001b[0;34m[\u001b[0m\u001b[0mfriendly_names\u001b[0m\u001b[0;34m[\u001b[0m\u001b[0mstr\u001b[0m\u001b[0;34m(\u001b[0m\u001b[0mint\u001b[0m\u001b[0;34m(\u001b[0m\u001b[0mx\u001b[0m\u001b[0;34m.\u001b[0m\u001b[0msplit\u001b[0m\u001b[0;34m(\u001b[0m\u001b[0;34m'_'\u001b[0m\u001b[0;34m)\u001b[0m\u001b[0;34m[\u001b[0m\u001b[0;36m1\u001b[0m\u001b[0;34m]\u001b[0m\u001b[0;34m)\u001b[0m\u001b[0;34m)\u001b[0m\u001b[0;34m]\u001b[0m \u001b[0;32mfor\u001b[0m \u001b[0mx\u001b[0m \u001b[0;32min\u001b[0m \u001b[0mobject_names\u001b[0m\u001b[0;34m]\u001b[0m\u001b[0;34m\u001b[0m\u001b[0;34m\u001b[0m\u001b[0m\n",
      "\u001b[0;31mKeyError\u001b[0m: 'ADD_ntop=1_matching=CLASS'"
     ]
    }
   ],
   "source": [
    "%load_ext autoreload\n",
    "%autoreload 2\n",
    "import numpy as np\n",
    "import pandas as pd\n",
    "import torch\n",
    "\n",
    "from happypose.pose_estimators.cosypose.cosypose.config import LOCAL_DATA_DIR\n",
    "\n",
    "friendly_names = (\n",
    "    LOCAL_DATA_DIR / \"bop_datasets/ycbv/ycbv_friendly_names.txt\"\n",
    ").read_text()\n",
    "friendly_names = {\n",
    "    str(int(l.split(\" \")[0])): l.split(\" \")[1] for l in friendly_names.split(\"\\n\")[:-1]\n",
    "}\n",
    "\n",
    "\n",
    "def make_errors_dict(key, result_id):\n",
    "    x = torch.load(LOCAL_DATA_DIR / \"results\" / result_id / \"results.pth.tar\")\n",
    "    eval_df = x[\"dfs\"][\"posecnn_init/refiner/iteration=2\"]\n",
    "    scores = eval_df[f\"{key}_ntop=1_matching=CLASS\"][\"gt\"][\"AUC/objects\"]\n",
    "    object_names = scores.objects.values\n",
    "    this_friendly_names = [\n",
    "        friendly_names[str(int(x.split(\"_\")[1]))] for x in object_names\n",
    "    ]\n",
    "    this_scores = {this_friendly_names[n]: scores.values[n] for n in range(len(scores))}\n",
    "    return this_scores\n",
    "\n",
    "\n",
    "def make_summary_df(result_id):\n",
    "    metrics = dict()\n",
    "    metrics_k = [\"ADD\", \"ADD-S\", \"ADD(-S)\"]\n",
    "    for k in metrics_k:\n",
    "        scores = make_errors_dict(k, result_id)\n",
    "        metrics[k] = scores\n",
    "    names = list(metrics[metrics_k[0]].keys())\n",
    "    names += [\"mean\"]\n",
    "    df = {\"object\": names}\n",
    "    for k in metrics_k:\n",
    "        df[k] = [\n",
    "            metrics[k][o] * 100\n",
    "            if o != \"mean\"\n",
    "            else np.mean(list(metrics[k].values())) * 100\n",
    "            for o in names\n",
    "        ]\n",
    "    df = pd.DataFrame(df)\n",
    "    return pd.DataFrame(df).set_index(\"object\")\n",
    "\n",
    "\n",
    "result_id = \"ycbv-n_views=1--5154971130\"\n",
    "df = make_summary_df(result_id)\n",
    "\n",
    "pd.options.display.float_format = \"{:,.1f}\".format\n",
    "df"
   ]
  }
 ],
 "metadata": {
  "kernelspec": {
   "display_name": "cosypose",
   "language": "python",
   "name": "cosypose"
  },
  "language_info": {
   "codemirror_mode": {
    "name": "ipython",
    "version": 3
   },
   "file_extension": ".py",
   "mimetype": "text/x-python",
   "name": "python",
   "nbconvert_exporter": "python",
   "pygments_lexer": "ipython3",
   "version": "3.7.6"
  }
 },
 "nbformat": 4,
 "nbformat_minor": 4
}
