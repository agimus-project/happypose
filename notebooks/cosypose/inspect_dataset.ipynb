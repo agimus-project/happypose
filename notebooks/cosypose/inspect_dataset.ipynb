{
 "cells": [
  {
   "cell_type": "code",
   "execution_count": null,
   "metadata": {},
   "outputs": [],
   "source": [
    "%load_ext autoreload\n",
    "%autoreload 2\n",
    "import numpy as np\n",
    "from happypose.pose_estimators.cosypose.cosypose.visualization.bokeh_utils import (\n",
    "    plot_image,\n",
    ")\n",
    "from bokeh.io import output_notebook, show\n",
    "\n",
    "output_notebook()\n",
    "from bokeh.layouts import gridplot\n",
    "\n",
    "from happypose.pose_estimators.cosypose.cosypose.datasets.datasets_cfg import (\n",
    "    make_scene_dataset,\n",
    ")"
   ]
  },
  {
   "cell_type": "code",
   "execution_count": null,
   "metadata": {},
   "outputs": [],
   "source": [
    "# ds_name = 'ycbv.train.real'\n",
    "ds_name = \"synthetic.tless-1M.train\"\n",
    "scene_ds = make_scene_dataset(ds_name)"
   ]
  },
  {
   "cell_type": "code",
   "execution_count": null,
   "metadata": {},
   "outputs": [],
   "source": [
    "figures = []\n",
    "ids = np.random.randint(len(scene_ds), size=9)\n",
    "for idx in ids:\n",
    "    im, mask, obs = scene_ds[idx]\n",
    "    im = np.asarray(im)[..., :3]\n",
    "    f, _ = plot_image(im, axes=False, tools=\"save\")\n",
    "    figures.append(f)\n",
    "plot = gridplot(figures, ncols=3, sizing_mode=\"scale_width\")\n",
    "show(plot)"
   ]
  }
 ],
 "metadata": {
  "kernelspec": {
   "display_name": "robotics",
   "language": "python",
   "name": "robotics"
  },
  "language_info": {
   "codemirror_mode": {
    "name": "ipython",
    "version": 3
   },
   "file_extension": ".py",
   "mimetype": "text/x-python",
   "name": "python",
   "nbconvert_exporter": "python",
   "pygments_lexer": "ipython3",
   "version": "3.7.6"
  }
 },
 "nbformat": 4,
 "nbformat_minor": 4
}
