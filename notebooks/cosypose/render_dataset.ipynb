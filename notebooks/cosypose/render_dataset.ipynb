{
 "cells": [
  {
   "cell_type": "code",
   "execution_count": null,
   "metadata": {},
   "outputs": [],
   "source": [
    "%load_ext autoreload\n",
    "%autoreload 2\n",
    "from happypose.pose_estimators.cosypose.cosypose.rendering.bullet_scene_renderer import (\n",
    "    BulletSceneRenderer,\n",
    ")\n",
    "from happypose.pose_estimators.cosypose.cosypose.datasets.datasets_cfg import (\n",
    "    make_scene_dataset,\n",
    ")\n",
    "from bokeh.io import output_notebook, show\n",
    "\n",
    "output_notebook()\n",
    "import os\n",
    "\n",
    "import numpy as np\n",
    "from bokeh.plotting import gridplot\n",
    "\n",
    "from happypose.pose_estimators.cosypose.cosypose.visualization.plotter import Plotter\n",
    "\n",
    "os.environ[\"CUDA_VISIBLE_DEVICES\"] = \"0\""
   ]
  },
  {
   "cell_type": "code",
   "execution_count": null,
   "metadata": {},
   "outputs": [],
   "source": [
    "# ds_name, urdf_ds_name = 'synthetic.ycbv-1M.train', 'ycbv'\n",
    "ds_name, urdf_ds_name = \"tless.primesense.test\", \"tless.cad\"\n",
    "scene_ds = make_scene_dataset(ds_name)"
   ]
  },
  {
   "cell_type": "code",
   "execution_count": null,
   "metadata": {},
   "outputs": [],
   "source": [
    "def get_random_image(scene_ds, idx=None):\n",
    "    renderer = BulletSceneRenderer(urdf_ds_name)\n",
    "    if idx is None:\n",
    "        idx = np.random.randint(len(scene_ds))\n",
    "    print(\"idx:\", idx)\n",
    "    ds_rgb, mask, state = scene_ds[idx]\n",
    "\n",
    "    objects = state[\"objects\"]\n",
    "    camera = state[\"camera\"]\n",
    "    cameras = [camera]\n",
    "    image = renderer.render_scene(objects, cameras)[0][\"rgb\"]\n",
    "    renderer.disconnect()\n",
    "    return ds_rgb, image\n",
    "\n",
    "\n",
    "ds_rgb, render_rgb = get_random_image(scene_ds)\n",
    "\n",
    "plotter = Plotter()\n",
    "fig_ds_rgb = plotter.plot_image(ds_rgb)\n",
    "fig_render_rgb = plotter.plot_image(render_rgb)\n",
    "fig_overlay = plotter.plot_overlay(ds_rgb, render_rgb)\n",
    "show(gridplot([[fig_ds_rgb, fig_render_rgb, fig_overlay]], sizing_mode=\"scale_width\"))"
   ]
  }
 ],
 "metadata": {
  "kernelspec": {
   "display_name": "robotics",
   "language": "python",
   "name": "robotics"
  },
  "language_info": {
   "codemirror_mode": {
    "name": "ipython",
    "version": 3
   },
   "file_extension": ".py",
   "mimetype": "text/x-python",
   "name": "python",
   "nbconvert_exporter": "python",
   "pygments_lexer": "ipython3",
   "version": "3.7.6"
  }
 },
 "nbformat": 4,
 "nbformat_minor": 4
}
